{
  "nbformat": 4,
  "nbformat_minor": 0,
  "metadata": {
    "colab": {
      "provenance": [],
      "collapsed_sections": [
        "YAmEWy3ljXQv",
        "6dqw8HvoivoE",
        "QZqPAdKkgWmO",
        "XBpGrQSSiH0H",
        "fQ5Y9SSxbnRf",
        "wV_TRy_PaY2q",
        "gBbYCvKCadIR",
        "EfD__l9Eahko",
        "Z9bBqQbAavGg",
        "oadMLkBZa2R4",
        "kN2gxMMMcOpV",
        "leAZaCsOdyoC",
        "5M3X8AOfdyWy",
        "lM4jLS4VdygD",
        "svJ26b4GeTG6"
      ],
      "authorship_tag": "ABX9TyM/tV+nbfqB/JE8NIwca6H8",
      "include_colab_link": true
    },
    "kernelspec": {
      "name": "python3",
      "display_name": "Python 3"
    },
    "language_info": {
      "name": "python"
    }
  },
  "cells": [
    {
      "cell_type": "markdown",
      "metadata": {
        "id": "view-in-github",
        "colab_type": "text"
      },
      "source": [
        "<a href=\"https://colab.research.google.com/github/Amandasoler/Amandasoler/blob/main/Regressao_Linear.ipynb\" target=\"_parent\"><img src=\"https://colab.research.google.com/assets/colab-badge.svg\" alt=\"Open In Colab\"/></a>"
      ]
    },
    {
      "cell_type": "markdown",
      "source": [
        "# **Meu Notebook**\n",
        "Amanda Soler\n",
        "\n"
      ],
      "metadata": {
        "id": "Vw0jpX2MmKRC"
      }
    },
    {
      "cell_type": "markdown",
      "source": [
        "# **Resumo do Modelo de Regressão Linear**"
      ],
      "metadata": {
        "id": "3VJUJxmuezsA"
      }
    },
    {
      "cell_type": "markdown",
      "source": [
        "# Objetivo\n"
      ],
      "metadata": {
        "id": "YAmEWy3ljXQv"
      }
    },
    {
      "cell_type": "markdown",
      "source": [
        "Criar e testar um modelo de regressão linear que relacione a quantidade de horas de estudo (variável independente, X) com a nota obtida em um exame (variável dependente, Y).\n"
      ],
      "metadata": {
        "id": "uazJACyOjcig"
      }
    },
    {
      "cell_type": "markdown",
      "source": [
        "#**Passos seguidos**"
      ],
      "metadata": {
        "id": "9JQlkwRpjoh3"
      }
    },
    {
      "cell_type": "markdown",
      "source": [
        "# 1. Geração da base de dados"
      ],
      "metadata": {
        "id": "6dqw8HvoivoE"
      }
    },
    {
      "cell_type": "markdown",
      "source": [
        "\n",
        "- **Parâmetros Definidos:**\n",
        "     - Número de Amostras: 100\n",
        "     - Horas de Estudo (X): Valores aleatórios entre 0 e 10\n",
        "     - Inclinação (true_slope): 5 (aumento esperado na nota por hora de estudo)\n",
        "     - Intercepto (true_intercept): 50 (nota base sem estudo)\n",
        "     - Ruído (noise): Ruído aleatório com média 0 e desvio padrão 5 para simular variabilidade real\n",
        "- **Cálculo da Nota (Y)**:\n",
        "    \n",
        "     - Y foi calculada usando a fórmula: Y = true_slope * X + true_intercept + noise\n",
        "\n",
        "- **Criação de um DataFrame**:\n",
        "\n",
        "    - Armazenou os dados gerados em um DataFrame pandas\n",
        "- **Visualização**:\n",
        "\n",
        "    - Plotagem de um gráfico de dispersão para visualizar a relação entre horas de estudo e nota\n",
        "\n"
      ],
      "metadata": {
        "id": "JbEzxjJ3fAgQ"
      }
    },
    {
      "cell_type": "markdown",
      "source": [
        "# 2. Aplicação do Modelo de Regressão Linear"
      ],
      "metadata": {
        "id": "QZqPAdKkgWmO"
      }
    },
    {
      "cell_type": "markdown",
      "source": [
        "\n",
        "- **Separação das Variáveis**:\n",
        "\n",
        "    - X: Horas de Estudo\n",
        "    - Y: Nota\n",
        "\n",
        "- **Criação e Ajuste do Modelo**:\n",
        "\n",
        "    - Utilizou LinearRegression da biblioteca scikit-learn\n",
        "    - Ajuste do modelo aos dados com model.fit(X, Y)\n",
        "\n",
        "- **Obtenção dos Coeficientes:**\n",
        "\n",
        "    - Inclinação (slope): Representa o aumento esperado na nota por hora de estudo\n",
        "    - Intercepto (intercept): Representa a nota base sem estudo\n",
        "\n",
        "- **Previsões:**\n",
        "\n",
        "    - Utilizou model.predict(X) para fazer previsões das notas baseadas nas horas de estudo\n",
        "\n",
        "- **Visualização**:\n",
        "    - Plotagem da reta de regressão sobre os dados de dispersão\n",
        "\n"
      ],
      "metadata": {
        "id": "vne6zpKKgmEM"
      }
    },
    {
      "cell_type": "markdown",
      "source": [
        "# Recursos Abordados"
      ],
      "metadata": {
        "id": "XBpGrQSSiH0H"
      }
    },
    {
      "cell_type": "markdown",
      "source": [
        "- **Geração de Dados Sintéticos:**\n",
        "   - Uso de numpy para gerar dados aleatórios\n",
        "   - Adição de ruído para simular variabilidade realista\n",
        "      \n",
        "- **Manipulação de Dados:**\n",
        "\n",
        "    - Criação e manipulação de DataFrames com pandas\n",
        "    - Visualização de dados com matplotlib\n",
        "\n",
        "- **Regressão Linear**:\n",
        "    - Importação e uso de LinearRegression da scikit-learn\n",
        "    - Ajuste do modelo aos dados\n",
        "    - Extração de coeficientes do modelo (inclinação e intercepto)\n",
        "    - Realização de previsões com o modelo ajustado\n",
        "\n",
        "- **Visualização de Dados e Resultados**\n",
        "\n",
        "    - Criação de gráficos de dispersão\n",
        "    - Plotagem da reta de regressão sobre os dados"
      ],
      "metadata": {
        "id": "qSBaOJ0liMtS"
      }
    },
    {
      "cell_type": "markdown",
      "source": [
        "# **Código**"
      ],
      "metadata": {
        "id": "hp0nXOvdk89P"
      }
    },
    {
      "cell_type": "markdown",
      "source": [
        "# Gerar uma base de dados"
      ],
      "metadata": {
        "id": "fQ5Y9SSxbnRf"
      }
    },
    {
      "cell_type": "code",
      "execution_count": 17,
      "metadata": {
        "id": "vZE-YDVhaKW7"
      },
      "outputs": [],
      "source": [
        "import numpy as np\n",
        "import pandas as pd\n",
        "import matplotlib.pyplot as plt\n"
      ]
    },
    {
      "cell_type": "markdown",
      "source": [
        "# Definindo os parâmetros da base de dados"
      ],
      "metadata": {
        "id": "wV_TRy_PaY2q"
      }
    },
    {
      "cell_type": "code",
      "source": [
        "np.random.seed(42)  # Para reprodutibilidade\n",
        "n_samples = 100  # Número de amostras\n",
        "hours_studied = np.random.rand(n_samples, 1) * 10  # Horas de estudo entre 0 e 10\n",
        "true_slope = 5  # Aumento esperado na nota por hora de estudo\n",
        "true_intercept = 50  # Nota base sem estudo\n",
        "noise = np.random.randn(n_samples, 1) * 5  # Ruído aleatório"
      ],
      "metadata": {
        "id": "xEI_7TPXaaR4"
      },
      "execution_count": 18,
      "outputs": []
    },
    {
      "cell_type": "markdown",
      "source": [
        "# Gerando as notas"
      ],
      "metadata": {
        "id": "gBbYCvKCadIR"
      }
    },
    {
      "cell_type": "code",
      "source": [
        "grades = true_slope * hours_studied + true_intercept + noise"
      ],
      "metadata": {
        "id": "LTHgZ699afj4"
      },
      "execution_count": 19,
      "outputs": []
    },
    {
      "cell_type": "markdown",
      "source": [
        "# Criando um DataFrame para armazenar os dados"
      ],
      "metadata": {
        "id": "EfD__l9Eahko"
      }
    },
    {
      "cell_type": "code",
      "source": [
        "data = pd.DataFrame(data={'Hours_Studied': hours_studied.flatten(), 'Grade': grades.flatten()})"
      ],
      "metadata": {
        "id": "K7c4cZ14ampg"
      },
      "execution_count": 20,
      "outputs": []
    },
    {
      "cell_type": "markdown",
      "source": [
        "# Exibindo os primeiros registros da base de dados"
      ],
      "metadata": {
        "id": "Z9bBqQbAavGg"
      }
    },
    {
      "cell_type": "code",
      "source": [
        "print(data.head())"
      ],
      "metadata": {
        "colab": {
          "base_uri": "https://localhost:8080/"
        },
        "id": "hmbkqCOQayfI",
        "outputId": "d47b3d21-b862-4929-8c1d-3402dcb2dbf5"
      },
      "execution_count": 21,
      "outputs": [
        {
          "output_type": "stream",
          "name": "stdout",
          "text": [
            "   Hours_Studied      Grade\n",
            "0       3.745401  69.162241\n",
            "1       9.507143  96.040679\n",
            "2       7.319939  87.058501\n",
            "3       5.986585  69.995080\n",
            "4       1.560186  56.702573\n"
          ]
        }
      ]
    },
    {
      "cell_type": "markdown",
      "source": [
        "# Plotando os dados"
      ],
      "metadata": {
        "id": "oadMLkBZa2R4"
      }
    },
    {
      "cell_type": "code",
      "source": [
        "plt.scatter(hours_studied, grades, color='blue')\n",
        "plt.title('Relação entre Horas de Estudo e Nota')\n",
        "plt.xlabel('Horas de Estudo')\n",
        "plt.ylabel('Nota')\n",
        "plt.show()"
      ],
      "metadata": {
        "colab": {
          "base_uri": "https://localhost:8080/",
          "height": 0
        },
        "id": "pXBdQxMza5Zo",
        "outputId": "7d14bc57-e16a-4e8b-e214-51af00aa496b"
      },
      "execution_count": 22,
      "outputs": [
        {
          "output_type": "display_data",
          "data": {
            "text/plain": [
              "<Figure size 640x480 with 1 Axes>"
            ],
            "image/png": "[encoded data removed]"
          },
          "metadata": {}
        }
      ]
    },
    {
      "cell_type": "markdown",
      "source": [
        "# Aplicar o modelo de Regressão Linear"
      ],
      "metadata": {
        "id": "kN2gxMMMcOpV"
      }
    },
    {
      "cell_type": "code",
      "source": [
        "from sklearn.linear_model import LinearRegression\n"
      ],
      "metadata": {
        "id": "wkwc5O6vcT55"
      },
      "execution_count": 23,
      "outputs": []
    },
    {
      "cell_type": "markdown",
      "source": [],
      "metadata": {
        "id": "PRP4x_m0exYw"
      }
    },
    {
      "cell_type": "markdown",
      "source": [
        "# Separando as variáveis independentes e dependentes"
      ],
      "metadata": {
        "id": "leAZaCsOdyoC"
      }
    },
    {
      "cell_type": "code",
      "source": [
        "X = data[['Hours_Studied']]\n",
        "Y = data['Grade']"
      ],
      "metadata": {
        "id": "yQ1XqoDMdw5C"
      },
      "execution_count": 24,
      "outputs": []
    },
    {
      "cell_type": "markdown",
      "source": [
        "# Criando e ajustando o modelo de regressão linear"
      ],
      "metadata": {
        "id": "5M3X8AOfdyWy"
      }
    },
    {
      "cell_type": "code",
      "source": [
        "model = LinearRegression()\n",
        "model.fit(X, Y)"
      ],
      "metadata": {
        "colab": {
          "base_uri": "https://localhost:8080/",
          "height": 0
        },
        "id": "kv9zS-Jodxrj",
        "outputId": "d37ff9ce-904b-4d17-b3dd-0b9f15323dea"
      },
      "execution_count": 25,
      "outputs": [
        {
          "output_type": "execute_result",
          "data": {
            "text/plain": [
              "LinearRegression()"
            ],
            "text/html": [
              "<style>#sk-container-id-2 {color: black;background-color: white;}#sk-container-id-2 pre{padding: 0;}#sk-container-id-2 div.sk-toggleable {background-color: white;}#sk-container-id-2 label.sk-toggleable__label {cursor: pointer;display: block;width: 100%;margin-bottom: 0;padding: 0.3em;box-sizing: border-box;text-align: center;}#sk-container-id-2 label.sk-toggleable__label-arrow:before {content: \"▸\";float: left;margin-right: 0.25em;color: #696969;}#sk-container-id-2 label.sk-toggleable__label-arrow:hover:before {color: black;}#sk-container-id-2 div.sk-estimator:hover label.sk-toggleable__label-arrow:before {color: black;}#sk-container-id-2 div.sk-toggleable__content {max-height: 0;max-width: 0;overflow: hidden;text-align: left;background-color: #f0f8ff;}#sk-container-id-2 div.sk-toggleable__content pre {margin: 0.2em;color: black;border-radius: 0.25em;background-color: #f0f8ff;}#sk-container-id-2 input.sk-toggleable__control:checked~div.sk-toggleable__content {max-height: 200px;max-width: 100%;overflow: auto;}#sk-container-id-2 input.sk-toggleable__control:checked~label.sk-toggleable__label-arrow:before {content: \"▾\";}#sk-container-id-2 div.sk-estimator input.sk-toggleable__control:checked~label.sk-toggleable__label {background-color: #d4ebff;}#sk-container-id-2 div.sk-label input.sk-toggleable__control:checked~label.sk-toggleable__label {background-color: #d4ebff;}#sk-container-id-2 input.sk-hidden--visually {border: 0;clip: rect(1px 1px 1px 1px);clip: rect(1px, 1px, 1px, 1px);height: 1px;margin: -1px;overflow: hidden;padding: 0;position: absolute;width: 1px;}#sk-container-id-2 div.sk-estimator {font-family: monospace;background-color: #f0f8ff;border: 1px dotted black;border-radius: 0.25em;box-sizing: border-box;margin-bottom: 0.5em;}#sk-container-id-2 div.sk-estimator:hover {background-color: #d4ebff;}#sk-container-id-2 div.sk-parallel-item::after {content: \"\";width: 100%;border-bottom: 1px solid gray;flex-grow: 1;}#sk-container-id-2 div.sk-label:hover label.sk-toggleable__label {background-color: #d4ebff;}#sk-container-id-2 div.sk-serial::before {content: \"\";position: absolute;border-left: 1px solid gray;box-sizing: border-box;top: 0;bottom: 0;left: 50%;z-index: 0;}#sk-container-id-2 div.sk-serial {display: flex;flex-direction: column;align-items: center;background-color: white;padding-right: 0.2em;padding-left: 0.2em;position: relative;}#sk-container-id-2 div.sk-item {position: relative;z-index: 1;}#sk-container-id-2 div.sk-parallel {display: flex;align-items: stretch;justify-content: center;background-color: white;position: relative;}#sk-container-id-2 div.sk-item::before, #sk-container-id-2 div.sk-parallel-item::before {content: \"\";position: absolute;border-left: 1px solid gray;box-sizing: border-box;top: 0;bottom: 0;left: 50%;z-index: -1;}#sk-container-id-2 div.sk-parallel-item {display: flex;flex-direction: column;z-index: 1;position: relative;background-color: white;}#sk-container-id-2 div.sk-parallel-item:first-child::after {align-self: flex-end;width: 50%;}#sk-container-id-2 div.sk-parallel-item:last-child::after {align-self: flex-start;width: 50%;}#sk-container-id-2 div.sk-parallel-item:only-child::after {width: 0;}#sk-container-id-2 div.sk-dashed-wrapped {border: 1px dashed gray;margin: 0 0.4em 0.5em 0.4em;box-sizing: border-box;padding-bottom: 0.4em;background-color: white;}#sk-container-id-2 div.sk-label label {font-family: monospace;font-weight: bold;display: inline-block;line-height: 1.2em;}#sk-container-id-2 div.sk-label-container {text-align: center;}#sk-container-id-2 div.sk-container {/* jupyter's `normalize.less` sets `[hidden] { display: none; }` but bootstrap.min.css set `[hidden] { display: none !important; }` so we also need the `!important` here to be able to override the default hidden behavior on the sphinx rendered scikit-learn.org. See: https://github.com/scikit-learn/scikit-learn/issues/21755 */display: inline-block !important;position: relative;}#sk-container-id-2 div.sk-text-repr-fallback {display: none;}</style><div id=\"sk-container-id-2\" class=\"sk-top-container\"><div class=\"sk-text-repr-fallback\"><pre>LinearRegression()</pre><b>In a Jupyter environment, please rerun this cell to show the HTML representation or trust the notebook. <br />On GitHub, the HTML representation is unable to render, please try loading this page with nbviewer.org.</b></div><div class=\"sk-container\" hidden><div class=\"sk-item\"><div class=\"sk-estimator sk-toggleable\"><input class=\"sk-toggleable__control sk-hidden--visually\" id=\"sk-estimator-id-2\" type=\"checkbox\" checked><label for=\"sk-estimator-id-2\" class=\"sk-toggleable__label sk-toggleable__label-arrow\">LinearRegression</label><div class=\"sk-toggleable__content\"><pre>LinearRegression()</pre></div></div></div></div></div>"
            ]
          },
          "metadata": {},
          "execution_count": 25
        }
      ]
    },
    {
      "cell_type": "markdown",
      "source": [
        "# Obtendo os coeficientes do modelo"
      ],
      "metadata": {
        "id": "lM4jLS4VdygD"
      }
    },
    {
      "cell_type": "code",
      "source": [
        "slope = model.coef_[0]\n",
        "intercept = model.intercept_\n",
        "print(f\"Slope: {slope}, Intercept: {intercept}\")"
      ],
      "metadata": {
        "colab": {
          "base_uri": "https://localhost:8080/"
        },
        "id": "3I6CbpEadxzS",
        "outputId": "62df9dda-27d1-4393-c9b5-fa634e63e684"
      },
      "execution_count": 26,
      "outputs": [
        {
          "output_type": "stream",
          "name": "stdout",
          "text": [
            "Slope: 4.770113386438483, Intercept: 51.075480787733724\n"
          ]
        }
      ]
    },
    {
      "cell_type": "markdown",
      "source": [
        "# Fazendo previsões"
      ],
      "metadata": {
        "id": "svJ26b4GeTG6"
      }
    },
    {
      "cell_type": "code",
      "source": [
        "Y_pred = model.predict(X)"
      ],
      "metadata": {
        "id": "tzEQiFEldx76"
      },
      "execution_count": 27,
      "outputs": []
    },
    {
      "cell_type": "markdown",
      "source": [
        "# Plotando a reta de regressão"
      ],
      "metadata": {
        "id": "XbacY5goebjh"
      }
    },
    {
      "cell_type": "code",
      "source": [
        "plt.scatter(X, Y, color='blue', label='Dados')\n",
        "plt.plot(X, Y_pred, color='red', label='Reta de Regressão')\n",
        "plt.title('Regressão Linear')\n",
        "plt.xlabel('Horas de Estudo')\n",
        "plt.ylabel('Nota')\n",
        "plt.legend()\n",
        "plt.show()"
      ],
      "metadata": {
        "colab": {
          "base_uri": "https://localhost:8080/",
          "height": 472
        },
        "id": "_78rStldefYs",
        "outputId": "48e09575-f317-4b30-f23f-2802f9f9b00c"
      },
      "execution_count": 28,
      "outputs": [
        {
          "output_type": "display_data",
          "data": {
            "text/plain": [
              "<Figure size 640x480 with 1 Axes>"
            ],
            "image/png": "[encoded data removed]"
          },
          "metadata": {}
        }
      ]
    }
  ]
}
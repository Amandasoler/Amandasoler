{
  "nbformat": 4,
  "nbformat_minor": 0,
  "metadata": {
    "colab": {
      "provenance": [],
      "authorship_tag": "ABX9TyOQDcie7nCVT1rzHqoh7eeb",
      "include_colab_link": true
    },
    "kernelspec": {
      "name": "python3",
      "display_name": "Python 3"
    },
    "language_info": {
      "name": "python"
    }
  },
  "cells": [
    {
      "cell_type": "markdown",
      "metadata": {
        "id": "view-in-github",
        "colab_type": "text"
      },
      "source": [
        "<a href=\"https://colab.research.google.com/github/Amandasoler/Amandasoler/blob/main/calculadora_simples.ipynb\" target=\"_parent\"><img src=\"https://colab.research.google.com/assets/colab-badge.svg\" alt=\"Open In Colab\"/></a>"
      ]
    },
    {
      "cell_type": "markdown",
      "source": [
        "# Calculadora simples"
      ],
      "metadata": {
        "id": "UICJsftZ_UXU"
      }
    },
    {
      "cell_type": "code",
      "execution_count": null,
      "metadata": {
        "colab": {
          "base_uri": "https://localhost:8080/"
        },
        "id": "_zXC11UM-bAc",
        "outputId": "5e695185-ab65-49f9-b88a-45e6367fac7a"
      },
      "outputs": [
        {
          "output_type": "stream",
          "name": "stdout",
          "text": [
            "Digite o primeiro número: 5\n",
            "Digite o segundo número: 9\n",
            "Soma: 14.0\n",
            "Subtração: -4.0\n",
            "Multiplicação: 45.0\n",
            "Divisão: 0.5555555555555556\n"
          ]
        }
      ],
      "source": [
        "# Solicitar números ao usuário\n",
        "num1 = float(input(\"Digite o primeiro número: \"))\n",
        "num2 = float(input(\"Digite o segundo número: \"))\n",
        "\n",
        "# Operações matemáticas\n",
        "soma = num1 + num2\n",
        "subtracao = num1 - num2\n",
        "multiplicacao = num1 * num2\n",
        "divisao = num1 / num2 if num2 != 0 else \"Divisão por zero não permitida\"\n",
        "\n",
        "# Exibir resultados\n",
        "print(f\"Soma: {soma}\")\n",
        "print(f\"Subtração: {subtracao}\")\n",
        "print(f\"Multiplicação: {multiplicacao}\")\n",
        "print(f\"Divisão: {divisao}\")\n"
      ]
    }
  ]
}
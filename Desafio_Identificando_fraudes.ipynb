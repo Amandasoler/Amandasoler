{
  "nbformat": 4,
  "nbformat_minor": 0,
  "metadata": {
    "colab": {
      "provenance": [],
      "authorship_tag": "ABX9TyNw/jpq9ElcMmYaiYzzQFhI",
      "include_colab_link": true
    },
    "kernelspec": {
      "name": "python3",
      "display_name": "Python 3"
    },
    "language_info": {
      "name": "python"
    }
  },
  "cells": [
    {
      "cell_type": "markdown",
      "metadata": {
        "id": "view-in-github",
        "colab_type": "text"
      },
      "source": [
        "<a href=\"https://colab.research.google.com/github/Amandasoler/Amandasoler/blob/main/Desafio_Identificando_fraudes.ipynb\" target=\"_parent\"><img src=\"https://colab.research.google.com/assets/colab-badge.svg\" alt=\"Open In Colab\"/></a>"
      ]
    },
    {
      "cell_type": "markdown",
      "source": [
        "# Meu Notebook\n",
        "Amanda Soler\n",
        "\n",
        "Curso Pandas: Limpeza e Tratamendo de dados.\n",
        "\n",
        "Alura\n",
        "\n",
        "Objetivo: Identificar outliers"
      ],
      "metadata": {
        "id": "rjYLxbcKzdan"
      }
    },
    {
      "cell_type": "markdown",
      "source": [
        "# Desafio:\n",
        "Você trabalha em um banco como cientista de dados e recebeu o seguinte conjunto de dados para analisar:\n"
      ],
      "metadata": {
        "id": "FDg6Aso4JSuR"
      }
    },
    {
      "cell_type": "markdown",
      "source": [
        "# Conjunto de dados"
      ],
      "metadata": {
        "id": "NliqfrVqzYem"
      }
    },
    {
      "cell_type": "code",
      "source": [
        "import pandas as pd\n",
        "\n",
        "# criando um DataFrame com 30 transações aleatórias\n",
        "df = pd.DataFrame({\n",
        "    'ID da transação': range(1, 31),\n",
        "    'Valor da transação': [100, 200, 150, 500, 300, 913, 250, 400, 200, 150,\n",
        "                           200, 200, 400, 300, 150, 301, 805, 300, 400, 250,\n",
        "                           150, 100, 500, 600, 200, 350, 100, 250, 800, 250],\n",
        "    'Data da transação': pd.date_range(start='2022-01-01', end='2022-01-30', freq='D'),\n",
        "    'Local da transação': ['São Paulo, Brasil', 'Rio de Janeiro, Brasil', 'Belo Horizonte, Brasil', 'São Paulo, Brasil',\n",
        "                           'São Paulo, Brasil', 'Nova Iorque, EUA', 'São Paulo, Brasil', 'São Paulo, Brasil', 'São Paulo, Brasil',\n",
        "                           'Rio de Janeiro, Brasil', 'São Paulo, Brasil', 'São Paulo, Brasil', 'São Paulo, Brasil', 'São Paulo, Brasil',\n",
        "                           'São Paulo, Brasil', 'São Paulo, Brasil', 'Los Angeles, EUA', 'São Paulo, Brasil', 'São Paulo, Brasil', 'São Paulo, Brasil',\n",
        "                           'São Paulo, Brasil', 'São Paulo, Brasil', 'São Paulo, Brasil', 'São Paulo, Brasil', 'São Paulo, Brasil', 'São Paulo, Brasil',\n",
        "                           'São Paulo, Brasil', 'São Paulo, Brasil', 'Miami, EUA', 'São Paulo, Brasil']\n",
        "})"
      ],
      "metadata": {
        "id": "zOYcQSmGygMi"
      },
      "execution_count": 11,
      "outputs": []
    },
    {
      "cell_type": "markdown",
      "source": [
        "Foi informado que nessa base de dados há possíveis fraudes que podem ser identificadas através dos outliers no “valor da transação”. Basicamente a fraude seria um outlier.\n",
        "\n",
        "Sua missão é construir uma função que recebe dois parâmetros, a coluna que você quer analisar se tem outlier e o DataFrame em questão. A intenção de fazer isso é aproveitar novamente essa função tanto para outras colunas quanto para outros DataFrames futuramente em outras análises. O método que deve ser implementado para identificação do outlier é do intervalo interquartil.\n",
        "\n",
        "Como podemos fazer isso?"
      ],
      "metadata": {
        "id": "UgmmcyM3JmS4"
      }
    },
    {
      "cell_type": "markdown",
      "source": [
        "# Minha solução para o desafio"
      ],
      "metadata": {
        "id": "tTip4FoJzLVX"
      }
    },
    {
      "cell_type": "code",
      "source": [
        "# Função para identificar outliers usando o método do intervalo interquartil\n",
        "def identificar_outliers(df, coluna):\n",
        "    Q1 = df['Valor da transação'].quantile(0.25)\n",
        "    Q3 = df['Valor da transação'].quantile(0.75)\n",
        "    IQR = Q3 - Q1\n",
        "\n",
        "    lim_inferior = Q1 - 1.5 * IQR\n",
        "    lim_superior = Q3 + 1.5 * IQR\n",
        "\n",
        "    outliers = df[(df['Valor da transação'] < lim_inferior) | (df['Valor da transação'] > lim_superior)]\n",
        "    return outliers\n",
        "\n",
        ""
      ],
      "metadata": {
        "id": "mZiV4-rpJs_X"
      },
      "execution_count": 13,
      "outputs": []
    },
    {
      "cell_type": "code",
      "source": [
        "# Utilizando a função para encontrar outliers na coluna 'Valor da transação'\n",
        "outliers = identificar_outliers(df, 'Valor da transação')\n",
        "print(\"Outliers encontrados:\")\n",
        "print(outliers)"
      ],
      "metadata": {
        "colab": {
          "base_uri": "https://localhost:8080/"
        },
        "id": "2aNkNoblx_sw",
        "outputId": "3fc18809-082f-4786-ed6b-027a9fc89bb8"
      },
      "execution_count": 14,
      "outputs": [
        {
          "output_type": "stream",
          "name": "stdout",
          "text": [
            "Outliers encontrados:\n",
            "    ID da transação  Valor da transação Data da transação Local da transação\n",
            "5                 6                 913        2022-01-06   Nova Iorque, EUA\n",
            "16               17                 805        2022-01-17   Los Angeles, EUA\n",
            "28               29                 800        2022-01-29         Miami, EUA\n"
          ]
        }
      ]
    }
  ]
}